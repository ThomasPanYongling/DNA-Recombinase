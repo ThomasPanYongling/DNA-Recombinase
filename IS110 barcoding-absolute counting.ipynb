{
 "cells": [
  {
   "cell_type": "code",
   "execution_count": 1,
   "id": "06f3bb25",
   "metadata": {},
   "outputs": [],
   "source": [
    "initial_dna_sequence = [\n",
    "    'A', 'ALPHA',\n",
    "    'B', 'BETA',\n",
    "    'C', 'GAMMA',\n",
    "    'D', 'DELTA',\n",
    "    'E', 'EPSILON',\n",
    "    'F', 'ZETA',\n",
    "    'G', 'ETA',\n",
    "    'H', 'THETA',\n",
    "    'I', 'IOTA',\n",
    "    'J', 'KAPPA',\n",
    "    'K', 'LAMBDA',\n",
    "    'L', 'MU',\n",
    "    'M', 'NU',\n",
    "    'N', 'XI',\n",
    "    'O', 'OMICRON',\n",
    "    'P', 'PI',\n",
    "    'Q', 'RHO',\n",
    "    'R', 'SIGMA',\n",
    "    'S', 'TAU',\n",
    "    'T', 'UPSILON',\n",
    "    'U', 'PHI',\n",
    "    'V', 'CHI',\n",
    "    'W', 'PSI',\n",
    "    'X', 'OMEGA',\n",
    "    'DELTA', 'D'\n",
    "]\n"
   ]
  },
  {
   "cell_type": "code",
   "execution_count": null,
   "id": "c1803372",
   "metadata": {},
   "outputs": [],
   "source": [
    "initial_dna_sequence= [\n",
    "    'A', 'ALPHA', 'BETA', 'B',\n",
    "    'A', 'ALPHA', 'BETA', 'B',\n",
    "    'A', 'ALPHA', 'BETA', 'B',\n",
    "    'A', 'ALPHA', 'BETA', 'B',\n",
    "    'A', 'ALPHA', 'BETA', 'B'\n",
    "]\n",
    "\n",
    "\n",
    "\n"
   ]
  },
  {
   "cell_type": "code",
   "execution_count": 35,
   "id": "645c433c",
   "metadata": {},
   "outputs": [],
   "source": [
    "initial_dna_sequence=[\n",
    "'1', 'A', 'ALPHA',\n",
    "'2', 'BETA', 'B',\n",
    "'3', 'A', 'ALPHA',\n",
    "'4', 'BETA', 'B',\n",
    "'5', 'A', 'ALPHA',\n",
    "'6', 'BETA', 'B',\n",
    "'7', 'A', 'ALPHA',\n",
    "'8', 'BETA', 'B',\n",
    "'9', 'A', 'ALPHA',\n",
    "'10', 'BETA', 'B',\n",
    "'11']\n",
    "\n",
    "\n",
    "\n"
   ]
  },
  {
   "cell_type": "code",
   "execution_count": 68,
   "id": "77777c52",
   "metadata": {},
   "outputs": [],
   "source": [
    "initial_dna_sequence=[\n",
    "'1', 'A', 'ALPHA',\n",
    "'2', 'ALPHA', 'A',\n",
    "'3','A','ALPHA',\n",
    "'4','ALPHA','A',\n",
    "'5','A','ALPHA',\n",
    "'6','ALPHA','A',\n",
    "'7','A','ALPHA',\n",
    "'8','ALPHA','A',\n",
    "'9','A','ALPHA',\n",
    "'10','ALPHA','A',\n",
    "'11']"
   ]
  },
  {
   "cell_type": "code",
   "execution_count": 69,
   "id": "de688d4f",
   "metadata": {},
   "outputs": [],
   "source": [
    "# -*- coding: utf-8 -*-\n",
    "\n",
    "class CompositeElement:\n",
    "    def __init__(self, name):\n",
    "        self.name = name\n",
    "        self._composite = None\n",
    "    \n",
    "    def composite(self):\n",
    "        return self._composite\n",
    "    \n",
    "    def set_composite(self, other):\n",
    "        self._composite = other\n",
    "\n",
    "class CompositeMapping:\n",
    "    def __init__(self):\n",
    "        self.elements = {}\n",
    "    \n",
    "    def add_pair(self, element1, element2):\n",
    "        # Create CompositeElement instances if they don't exist\n",
    "        if element1 not in self.elements:\n",
    "            self.elements[element1] = CompositeElement(element1)\n",
    "        if element2 not in self.elements:\n",
    "            self.elements[element2] = CompositeElement(element2)\n",
    "        \n",
    "        # Set up the composite relationship\n",
    "        self.elements[element1].set_composite(self.elements[element2])\n",
    "        self.elements[element2].set_composite(self.elements[element1])\n",
    "    \n",
    "    def get_element(self, name):\n",
    "        return self.elements.get(name)\n",
    "\n",
    "\n",
    "\n",
    "\n",
    "\n",
    "def create_mapping():# Check encoding first\n",
    "    \n",
    "    # Create a composite mapping\n",
    "    composite_mapping = CompositeMapping()\n",
    "    \n",
    "    # Define all the letter sets\n",
    "    latin_upper = 'ABCDEFGHIJKLMNOPQRSTUVWXYZ'\n",
    "    latin_lower = 'abcdefghijklmnopqrstuvwxyz'\n",
    "\n",
    "    \n",
    "    # Define Latin names\n",
    "    latin_names_upper = [\n",
    "        'ALPHA', 'BETA', 'GAMMA', 'DELTA', 'EPSILON', 'ZETA', 'ETA', 'THETA',\n",
    "        'IOTA', 'KAPPA', 'LAMBDA', 'MU', 'NU', 'XI', 'OMICRON', 'PI', 'RHO',\n",
    "        'SIGMA', 'TAU', 'UPSILON', 'PHI', 'CHI', 'PSI', 'OMEGA'\n",
    "    ]\n",
    "    latin_names_lower = [name.lower() for name in latin_names_upper]\n",
    "\n",
    "    \n",
    "    \n",
    "    # 1. Latin uppercase to uppercase prime\n",
    "    for letter in latin_upper:\n",
    "        composite_mapping.add_pair(letter, f\"{letter}_prime\")\n",
    "    \n",
    "    # 2. Latin lowercase to lowercase prime\n",
    "    for letter in latin_lower:\n",
    "        composite_mapping.add_pair(letter, f\"{letter}_prime\")\n",
    "    \n",
    "    \n",
    "    # 5. Latin names uppercase to uppercase prime\n",
    "    for name in latin_names_upper:\n",
    "        composite_mapping.add_pair(name, f\"{name}_prime\")\n",
    "    \n",
    "    # 6. Latin names lowercase to lowercase prime\n",
    "    for name in latin_names_lower:\n",
    "        composite_mapping.add_pair(name, f\"{name}_prime\")\n",
    "\n",
    "    # 7. Numbers to uppercase prime\n",
    "    for number in range(1, 12):\n",
    "        composite_mapping.add_pair(str(number), f\"{str(number)}_prime\")\n",
    "\n",
    "    return composite_mapping\n",
    "\n",
    "\n",
    "    \n",
    "composite_mapping=create_mapping()\n",
    "\n"
   ]
  },
  {
   "cell_type": "code",
   "execution_count": 70,
   "id": "32372cda",
   "metadata": {},
   "outputs": [
    {
     "name": "stdout",
     "output_type": "stream",
     "text": [
      "A_prime\n"
     ]
    }
   ],
   "source": [
    "A=CompositeElement(\"A\")\n",
    "A.set_composite(CompositeElement(\"A_prime\"))\n",
    "\n",
    "print(A._composite.name)\n",
    "\n",
    "\n",
    "\n",
    "\n"
   ]
  },
  {
   "cell_type": "code",
   "execution_count": 71,
   "id": "9cca5e38",
   "metadata": {},
   "outputs": [],
   "source": [
    "def inverse_composite(sequence):\n",
    "    inverse_composite=sequence[::-1]\n",
    "    for i in range(len(inverse_composite)):\n",
    "        inverse_composite[i]=composite_mapping.elements[inverse_composite[i]]._composite.name\n",
    "    return inverse_composite\n"
   ]
  },
  {
   "cell_type": "code",
   "execution_count": 72,
   "id": "2dde37bf",
   "metadata": {},
   "outputs": [
    {
     "name": "stdout",
     "output_type": "stream",
     "text": [
      "['gamma_prime', 'C', 'B_prime', 'A']\n"
     ]
    }
   ],
   "source": [
    "print(inverse_composite(['A_prime','B','C_prime','gamma']))"
   ]
  },
  {
   "cell_type": "code",
   "execution_count": 73,
   "id": "f3807d75",
   "metadata": {},
   "outputs": [],
   "source": [
    "\n",
    "def detect_forward_sites(DNA,site):\n",
    "    site_length = len(site)\n",
    "    start_positions = []\n",
    "    end_positions = []\n",
    "    \n",
    "    # Slide through the DNA looking for matches\n",
    "    for i in range(len(DNA) - site_length + 1):\n",
    "        # Check if current window matches the site\n",
    "        if DNA[i:i+site_length] == site:\n",
    "            start_positions.append(i)#computer positions\n",
    "    \n",
    "    return start_positions\n"
   ]
  },
  {
   "cell_type": "code",
   "execution_count": 74,
   "id": "12c37abc",
   "metadata": {},
   "outputs": [],
   "source": [
    "\n",
    "def detect_backward_sites(DNA,site):\n",
    "    site_length = len(site)\n",
    "    start_positions = []\n",
    "    end_positions = []\n",
    "    \n",
    "    # Slide through the DNA looking for matches\n",
    "    for i in range(len(DNA) - site_length + 1):\n",
    "        # Check if current window matches the site\n",
    "        if DNA[i:i+site_length] == site[::-1]:\n",
    "            start_positions.append(i)#computer positions\n",
    "    \n",
    "    return start_positions\n",
    "\n",
    "#ALL positions recorded in natural counting, not computer indices, delete and inverts [site_1,site_2] inclusive\n",
    "def delete_between(DNA,site_1,site_2):\n",
    "    return None #DNA[:site_1-1]+DNA[site_2:]  \n",
    "\n",
    "def invert_between(DNA,site_1,site_2):\n",
    "    return DNA[:site_1-1]+inverse_composite(DNA[site_1-1:site_2])+DNA[site_2:] \n",
    "\n"
   ]
  },
  {
   "cell_type": "code",
   "execution_count": 75,
   "id": "f1c8b64d",
   "metadata": {},
   "outputs": [
    {
     "data": {
      "text/plain": [
       "['A',\n",
       " 'D_prime',\n",
       " 'C_prime',\n",
       " 'B_prime',\n",
       " 'E',\n",
       " 'F',\n",
       " 'G',\n",
       " 'H',\n",
       " 'I',\n",
       " 'J',\n",
       " 'K',\n",
       " 'L',\n",
       " 'M',\n",
       " 'N',\n",
       " 'O',\n",
       " 'P',\n",
       " 'Q',\n",
       " 'R',\n",
       " 'S',\n",
       " 'T',\n",
       " 'U',\n",
       " 'V',\n",
       " 'W',\n",
       " 'X',\n",
       " 'Y',\n",
       " 'Z']"
      ]
     },
     "execution_count": 75,
     "metadata": {},
     "output_type": "execute_result"
    }
   ],
   "source": [
    "invert_between(['A','B','C','D','E','F','G','H','I','J','K','L','M','N','O','P','Q','R','S','T','U','V','W','X','Y','Z'],2,4)"
   ]
  },
  {
   "cell_type": "code",
   "execution_count": 76,
   "id": "075210fa",
   "metadata": {},
   "outputs": [],
   "source": [
    "\n",
    "\n",
    "def evaluate_colour_CRE(DNA,choice1,choice2):\n",
    "\n",
    "    num1, direction_1 = choice1\n",
    "    num2, direction_2 = choice2\n",
    "    #WLOG,make num 1 the smaller one\n",
    "    if num1 > num2:\n",
    "        num1, num2 = num2, num1\n",
    "    \n",
    "    # Determine which function to use\n",
    "    \n",
    "    if direction_1 == 'forward':\n",
    "        if direction_1 == direction_2:\n",
    "            result= 'DoNotCount'\n",
    "        elif direction_1!=direction_2:\n",
    "            result= invert_between(DNA,num1+1,num2+1)\n",
    "    elif direction_1=='backward':\n",
    "        if direction_1 == direction_2:\n",
    "            result= 'DoNotCount'\n",
    "        else :\n",
    "            result= 'DoNotCount'\n",
    "\n",
    "    return result\n",
    "\n",
    "\n",
    "\n",
    "\n",
    "\n",
    "\n"
   ]
  },
  {
   "cell_type": "code",
   "execution_count": 77,
   "id": "6ae3f0b4",
   "metadata": {},
   "outputs": [],
   "source": [
    "def probability_calculation(DNA,forward_sites,backward_sites):\n",
    "    # Dictionary to store counts of each outcome\n",
    "    outcome_list=[{tuple(DNA):1}]\n",
    "\n",
    "    for _ in range(10):\n",
    "        outcome_list.append({})\n",
    "    recombinases_event=  0\n",
    "\n",
    "\n",
    "    # Run simulations\n",
    "    for stage in outcome_list:\n",
    "        if recombinases_event<len(outcome_list)-1:\n",
    "            recombinases_event+=1      \n",
    "            for stored_result,probabilities in stage.items():\n",
    "                stored_result=list(stored_result)\n",
    "                num_arrows=0\n",
    "                forward_9_positions=detect_forward_sites(stored_result,forward_sites)\n",
    "                backward_6_positions=detect_backward_sites(stored_result,backward_sites)\n",
    "                # Randomly select two sites\n",
    "                forward = [(num, 'forward') for num in forward_9_positions] \n",
    "                backward= [(num, 'backward') for num in backward_6_positions]\n",
    "                if 1==1:#wierd logic due to historical reasons\n",
    "                    \n",
    "                    num_arrows=len(forward)*len(backward)\n",
    "                    \n",
    "                    for i in forward:\n",
    "                        for j in backward:\n",
    "                            choice1,choice2 = i, j\n",
    "                            if choice1[0]>choice2[0]:\n",
    "                                break\n",
    "                            \n",
    "                            output = evaluate_colour_CRE(stored_result,choice1,choice2)\n",
    "                            #while output=='DoNotCount':\n",
    "                            #    output=evaluate_colour_CRE(stored_result,choice1,choice2)\n",
    "                            if output!='DoNotCount':\n",
    "                                formatted_output = tuple(output)\n",
    "                                print(formatted_output)#!!!Remove before flight  \n",
    "                                if formatted_output not in outcome_list[recombinases_event]:\n",
    "                                    outcome_list[recombinases_event][formatted_output] = 0\n",
    "                                outcome_list[recombinases_event][formatted_output] +=2*probabilities/num_arrows\n",
    "                        \n",
    "        print('stage',recombinases_event,'completed')\n",
    "    return outcome_list"
   ]
  },
  {
   "cell_type": "code",
   "execution_count": 78,
   "id": "2eca38fe",
   "metadata": {},
   "outputs": [
    {
     "name": "stdout",
     "output_type": "stream",
     "text": [
      "('1', 'ALPHA_prime', '2_prime', 'ALPHA_prime', 'A_prime', 'A', '3', 'A', 'ALPHA', '4', 'ALPHA', 'A', '5', 'A', 'ALPHA', '6', 'ALPHA', 'A', '7', 'A', 'ALPHA', '8', 'ALPHA', 'A', '9', 'A', 'ALPHA', '10', 'ALPHA', 'A', '11')\n",
      "('1', 'ALPHA_prime', '4_prime', 'ALPHA_prime', 'A_prime', '3_prime', 'A_prime', 'ALPHA_prime', '2_prime', 'ALPHA_prime', 'A_prime', 'A', '5', 'A', 'ALPHA', '6', 'ALPHA', 'A', '7', 'A', 'ALPHA', '8', 'ALPHA', 'A', '9', 'A', 'ALPHA', '10', 'ALPHA', 'A', '11')\n",
      "('1', 'ALPHA_prime', '6_prime', 'ALPHA_prime', 'A_prime', '5_prime', 'A_prime', 'ALPHA_prime', '4_prime', 'ALPHA_prime', 'A_prime', '3_prime', 'A_prime', 'ALPHA_prime', '2_prime', 'ALPHA_prime', 'A_prime', 'A', '7', 'A', 'ALPHA', '8', 'ALPHA', 'A', '9', 'A', 'ALPHA', '10', 'ALPHA', 'A', '11')\n",
      "('1', 'ALPHA_prime', '8_prime', 'ALPHA_prime', 'A_prime', '7_prime', 'A_prime', 'ALPHA_prime', '6_prime', 'ALPHA_prime', 'A_prime', '5_prime', 'A_prime', 'ALPHA_prime', '4_prime', 'ALPHA_prime', 'A_prime', '3_prime', 'A_prime', 'ALPHA_prime', '2_prime', 'ALPHA_prime', 'A_prime', 'A', '9', 'A', 'ALPHA', '10', 'ALPHA', 'A', '11')\n",
      "('1', 'ALPHA_prime', '10_prime', 'ALPHA_prime', 'A_prime', '9_prime', 'A_prime', 'ALPHA_prime', '8_prime', 'ALPHA_prime', 'A_prime', '7_prime', 'A_prime', 'ALPHA_prime', '6_prime', 'ALPHA_prime', 'A_prime', '5_prime', 'A_prime', 'ALPHA_prime', '4_prime', 'ALPHA_prime', 'A_prime', '3_prime', 'A_prime', 'ALPHA_prime', '2_prime', 'ALPHA_prime', 'A_prime', 'A', '11')\n",
      "stage 1 completed\n",
      "('1', 'ALPHA_prime', '2_prime', 'ALPHA_prime', 'A_prime', 'A', '3', 'ALPHA_prime', '4_prime', 'ALPHA_prime', 'A_prime', 'A', '5', 'A', 'ALPHA', '6', 'ALPHA', 'A', '7', 'A', 'ALPHA', '8', 'ALPHA', 'A', '9', 'A', 'ALPHA', '10', 'ALPHA', 'A', '11')\n",
      "('1', 'ALPHA_prime', '2_prime', 'ALPHA_prime', 'A_prime', 'A', '3', 'ALPHA_prime', '6_prime', 'ALPHA_prime', 'A_prime', '5_prime', 'A_prime', 'ALPHA_prime', '4_prime', 'ALPHA_prime', 'A_prime', 'A', '7', 'A', 'ALPHA', '8', 'ALPHA', 'A', '9', 'A', 'ALPHA', '10', 'ALPHA', 'A', '11')\n",
      "('1', 'ALPHA_prime', '2_prime', 'ALPHA_prime', 'A_prime', 'A', '3', 'ALPHA_prime', '8_prime', 'ALPHA_prime', 'A_prime', '7_prime', 'A_prime', 'ALPHA_prime', '6_prime', 'ALPHA_prime', 'A_prime', '5_prime', 'A_prime', 'ALPHA_prime', '4_prime', 'ALPHA_prime', 'A_prime', 'A', '9', 'A', 'ALPHA', '10', 'ALPHA', 'A', '11')\n",
      "('1', 'ALPHA_prime', '2_prime', 'ALPHA_prime', 'A_prime', 'A', '3', 'ALPHA_prime', '10_prime', 'ALPHA_prime', 'A_prime', '9_prime', 'A_prime', 'ALPHA_prime', '8_prime', 'ALPHA_prime', 'A_prime', '7_prime', 'A_prime', 'ALPHA_prime', '6_prime', 'ALPHA_prime', 'A_prime', '5_prime', 'A_prime', 'ALPHA_prime', '4_prime', 'ALPHA_prime', 'A_prime', 'A', '11')\n",
      "('1', 'ALPHA_prime', '4_prime', 'ALPHA_prime', 'A_prime', '3_prime', 'A_prime', 'ALPHA_prime', '2_prime', 'ALPHA_prime', 'A_prime', 'A', '5', 'ALPHA_prime', '6_prime', 'ALPHA_prime', 'A_prime', 'A', '7', 'A', 'ALPHA', '8', 'ALPHA', 'A', '9', 'A', 'ALPHA', '10', 'ALPHA', 'A', '11')\n",
      "('1', 'ALPHA_prime', '4_prime', 'ALPHA_prime', 'A_prime', '3_prime', 'A_prime', 'ALPHA_prime', '2_prime', 'ALPHA_prime', 'A_prime', 'A', '5', 'ALPHA_prime', '8_prime', 'ALPHA_prime', 'A_prime', '7_prime', 'A_prime', 'ALPHA_prime', '6_prime', 'ALPHA_prime', 'A_prime', 'A', '9', 'A', 'ALPHA', '10', 'ALPHA', 'A', '11')\n",
      "('1', 'ALPHA_prime', '4_prime', 'ALPHA_prime', 'A_prime', '3_prime', 'A_prime', 'ALPHA_prime', '2_prime', 'ALPHA_prime', 'A_prime', 'A', '5', 'ALPHA_prime', '10_prime', 'ALPHA_prime', 'A_prime', '9_prime', 'A_prime', 'ALPHA_prime', '8_prime', 'ALPHA_prime', 'A_prime', '7_prime', 'A_prime', 'ALPHA_prime', '6_prime', 'ALPHA_prime', 'A_prime', 'A', '11')\n",
      "('1', 'ALPHA_prime', '6_prime', 'ALPHA_prime', 'A_prime', '5_prime', 'A_prime', 'ALPHA_prime', '4_prime', 'ALPHA_prime', 'A_prime', '3_prime', 'A_prime', 'ALPHA_prime', '2_prime', 'ALPHA_prime', 'A_prime', 'A', '7', 'ALPHA_prime', '8_prime', 'ALPHA_prime', 'A_prime', 'A', '9', 'A', 'ALPHA', '10', 'ALPHA', 'A', '11')\n",
      "('1', 'ALPHA_prime', '6_prime', 'ALPHA_prime', 'A_prime', '5_prime', 'A_prime', 'ALPHA_prime', '4_prime', 'ALPHA_prime', 'A_prime', '3_prime', 'A_prime', 'ALPHA_prime', '2_prime', 'ALPHA_prime', 'A_prime', 'A', '7', 'ALPHA_prime', '10_prime', 'ALPHA_prime', 'A_prime', '9_prime', 'A_prime', 'ALPHA_prime', '8_prime', 'ALPHA_prime', 'A_prime', 'A', '11')\n",
      "('1', 'ALPHA_prime', '8_prime', 'ALPHA_prime', 'A_prime', '7_prime', 'A_prime', 'ALPHA_prime', '6_prime', 'ALPHA_prime', 'A_prime', '5_prime', 'A_prime', 'ALPHA_prime', '4_prime', 'ALPHA_prime', 'A_prime', '3_prime', 'A_prime', 'ALPHA_prime', '2_prime', 'ALPHA_prime', 'A_prime', 'A', '9', 'ALPHA_prime', '10_prime', 'ALPHA_prime', 'A_prime', 'A', '11')\n",
      "stage 2 completed\n",
      "('1', 'ALPHA_prime', '2_prime', 'ALPHA_prime', 'A_prime', 'A', '3', 'ALPHA_prime', '4_prime', 'ALPHA_prime', 'A_prime', 'A', '5', 'ALPHA_prime', '6_prime', 'ALPHA_prime', 'A_prime', 'A', '7', 'A', 'ALPHA', '8', 'ALPHA', 'A', '9', 'A', 'ALPHA', '10', 'ALPHA', 'A', '11')\n",
      "('1', 'ALPHA_prime', '2_prime', 'ALPHA_prime', 'A_prime', 'A', '3', 'ALPHA_prime', '4_prime', 'ALPHA_prime', 'A_prime', 'A', '5', 'ALPHA_prime', '8_prime', 'ALPHA_prime', 'A_prime', '7_prime', 'A_prime', 'ALPHA_prime', '6_prime', 'ALPHA_prime', 'A_prime', 'A', '9', 'A', 'ALPHA', '10', 'ALPHA', 'A', '11')\n",
      "('1', 'ALPHA_prime', '2_prime', 'ALPHA_prime', 'A_prime', 'A', '3', 'ALPHA_prime', '4_prime', 'ALPHA_prime', 'A_prime', 'A', '5', 'ALPHA_prime', '10_prime', 'ALPHA_prime', 'A_prime', '9_prime', 'A_prime', 'ALPHA_prime', '8_prime', 'ALPHA_prime', 'A_prime', '7_prime', 'A_prime', 'ALPHA_prime', '6_prime', 'ALPHA_prime', 'A_prime', 'A', '11')\n",
      "('1', 'ALPHA_prime', '2_prime', 'ALPHA_prime', 'A_prime', 'A', '3', 'ALPHA_prime', '6_prime', 'ALPHA_prime', 'A_prime', '5_prime', 'A_prime', 'ALPHA_prime', '4_prime', 'ALPHA_prime', 'A_prime', 'A', '7', 'ALPHA_prime', '8_prime', 'ALPHA_prime', 'A_prime', 'A', '9', 'A', 'ALPHA', '10', 'ALPHA', 'A', '11')\n",
      "('1', 'ALPHA_prime', '2_prime', 'ALPHA_prime', 'A_prime', 'A', '3', 'ALPHA_prime', '6_prime', 'ALPHA_prime', 'A_prime', '5_prime', 'A_prime', 'ALPHA_prime', '4_prime', 'ALPHA_prime', 'A_prime', 'A', '7', 'ALPHA_prime', '10_prime', 'ALPHA_prime', 'A_prime', '9_prime', 'A_prime', 'ALPHA_prime', '8_prime', 'ALPHA_prime', 'A_prime', 'A', '11')\n",
      "('1', 'ALPHA_prime', '2_prime', 'ALPHA_prime', 'A_prime', 'A', '3', 'ALPHA_prime', '8_prime', 'ALPHA_prime', 'A_prime', '7_prime', 'A_prime', 'ALPHA_prime', '6_prime', 'ALPHA_prime', 'A_prime', '5_prime', 'A_prime', 'ALPHA_prime', '4_prime', 'ALPHA_prime', 'A_prime', 'A', '9', 'ALPHA_prime', '10_prime', 'ALPHA_prime', 'A_prime', 'A', '11')\n",
      "('1', 'ALPHA_prime', '4_prime', 'ALPHA_prime', 'A_prime', '3_prime', 'A_prime', 'ALPHA_prime', '2_prime', 'ALPHA_prime', 'A_prime', 'A', '5', 'ALPHA_prime', '6_prime', 'ALPHA_prime', 'A_prime', 'A', '7', 'ALPHA_prime', '8_prime', 'ALPHA_prime', 'A_prime', 'A', '9', 'A', 'ALPHA', '10', 'ALPHA', 'A', '11')\n",
      "('1', 'ALPHA_prime', '4_prime', 'ALPHA_prime', 'A_prime', '3_prime', 'A_prime', 'ALPHA_prime', '2_prime', 'ALPHA_prime', 'A_prime', 'A', '5', 'ALPHA_prime', '6_prime', 'ALPHA_prime', 'A_prime', 'A', '7', 'ALPHA_prime', '10_prime', 'ALPHA_prime', 'A_prime', '9_prime', 'A_prime', 'ALPHA_prime', '8_prime', 'ALPHA_prime', 'A_prime', 'A', '11')\n",
      "('1', 'ALPHA_prime', '4_prime', 'ALPHA_prime', 'A_prime', '3_prime', 'A_prime', 'ALPHA_prime', '2_prime', 'ALPHA_prime', 'A_prime', 'A', '5', 'ALPHA_prime', '8_prime', 'ALPHA_prime', 'A_prime', '7_prime', 'A_prime', 'ALPHA_prime', '6_prime', 'ALPHA_prime', 'A_prime', 'A', '9', 'ALPHA_prime', '10_prime', 'ALPHA_prime', 'A_prime', 'A', '11')\n",
      "('1', 'ALPHA_prime', '6_prime', 'ALPHA_prime', 'A_prime', '5_prime', 'A_prime', 'ALPHA_prime', '4_prime', 'ALPHA_prime', 'A_prime', '3_prime', 'A_prime', 'ALPHA_prime', '2_prime', 'ALPHA_prime', 'A_prime', 'A', '7', 'ALPHA_prime', '8_prime', 'ALPHA_prime', 'A_prime', 'A', '9', 'ALPHA_prime', '10_prime', 'ALPHA_prime', 'A_prime', 'A', '11')\n",
      "stage 3 completed\n",
      "('1', 'ALPHA_prime', '2_prime', 'ALPHA_prime', 'A_prime', 'A', '3', 'ALPHA_prime', '4_prime', 'ALPHA_prime', 'A_prime', 'A', '5', 'ALPHA_prime', '6_prime', 'ALPHA_prime', 'A_prime', 'A', '7', 'ALPHA_prime', '8_prime', 'ALPHA_prime', 'A_prime', 'A', '9', 'A', 'ALPHA', '10', 'ALPHA', 'A', '11')\n",
      "('1', 'ALPHA_prime', '2_prime', 'ALPHA_prime', 'A_prime', 'A', '3', 'ALPHA_prime', '4_prime', 'ALPHA_prime', 'A_prime', 'A', '5', 'ALPHA_prime', '6_prime', 'ALPHA_prime', 'A_prime', 'A', '7', 'ALPHA_prime', '10_prime', 'ALPHA_prime', 'A_prime', '9_prime', 'A_prime', 'ALPHA_prime', '8_prime', 'ALPHA_prime', 'A_prime', 'A', '11')\n",
      "('1', 'ALPHA_prime', '2_prime', 'ALPHA_prime', 'A_prime', 'A', '3', 'ALPHA_prime', '4_prime', 'ALPHA_prime', 'A_prime', 'A', '5', 'ALPHA_prime', '8_prime', 'ALPHA_prime', 'A_prime', '7_prime', 'A_prime', 'ALPHA_prime', '6_prime', 'ALPHA_prime', 'A_prime', 'A', '9', 'ALPHA_prime', '10_prime', 'ALPHA_prime', 'A_prime', 'A', '11')\n",
      "('1', 'ALPHA_prime', '2_prime', 'ALPHA_prime', 'A_prime', 'A', '3', 'ALPHA_prime', '6_prime', 'ALPHA_prime', 'A_prime', '5_prime', 'A_prime', 'ALPHA_prime', '4_prime', 'ALPHA_prime', 'A_prime', 'A', '7', 'ALPHA_prime', '8_prime', 'ALPHA_prime', 'A_prime', 'A', '9', 'ALPHA_prime', '10_prime', 'ALPHA_prime', 'A_prime', 'A', '11')\n",
      "('1', 'ALPHA_prime', '4_prime', 'ALPHA_prime', 'A_prime', '3_prime', 'A_prime', 'ALPHA_prime', '2_prime', 'ALPHA_prime', 'A_prime', 'A', '5', 'ALPHA_prime', '6_prime', 'ALPHA_prime', 'A_prime', 'A', '7', 'ALPHA_prime', '8_prime', 'ALPHA_prime', 'A_prime', 'A', '9', 'ALPHA_prime', '10_prime', 'ALPHA_prime', 'A_prime', 'A', '11')\n",
      "stage 4 completed\n",
      "('1', 'ALPHA_prime', '2_prime', 'ALPHA_prime', 'A_prime', 'A', '3', 'ALPHA_prime', '4_prime', 'ALPHA_prime', 'A_prime', 'A', '5', 'ALPHA_prime', '6_prime', 'ALPHA_prime', 'A_prime', 'A', '7', 'ALPHA_prime', '8_prime', 'ALPHA_prime', 'A_prime', 'A', '9', 'ALPHA_prime', '10_prime', 'ALPHA_prime', 'A_prime', 'A', '11')\n",
      "stage 5 completed\n",
      "stage 6 completed\n",
      "stage 7 completed\n",
      "stage 8 completed\n",
      "stage 9 completed\n",
      "stage 10 completed\n",
      "stage 10 completed\n"
     ]
    }
   ],
   "source": [
    "data={}\n",
    "\n",
    "outcome_lists= probability_calculation(initial_dna_sequence,['A','ALPHA'],['A','ALPHA'])\n"
   ]
  },
  {
   "cell_type": "code",
   "execution_count": 79,
   "id": "e13d4c56",
   "metadata": {},
   "outputs": [],
   "source": [
    "\n",
    "stored_data=(outcome_lists)"
   ]
  },
  {
   "cell_type": "code",
   "execution_count": 80,
   "id": "14541d07",
   "metadata": {},
   "outputs": [],
   "source": [
    "import matplotlib.pyplot as plt\n",
    "import numpy as np\n",
    "\n",
    "\n",
    "\n"
   ]
  },
  {
   "cell_type": "code",
   "execution_count": 81,
   "id": "c2ee3523",
   "metadata": {},
   "outputs": [
    {
     "data": {
      "image/png": "[encoded data removed]",
      "text/plain": [
       "<Figure size 800x600 with 1 Axes>"
      ]
     },
     "metadata": {},
     "output_type": "display_data"
    }
   ],
   "source": [
    "x=[]\n",
    "y=[]\n",
    "for i in range(len(outcome_lists)):\n",
    "    x.append(i)\n",
    "    if i==0:\n",
    "        y.append(len(outcome_lists[i]))\n",
    "    elif i >0:\n",
    "        y.append(len(outcome_lists[i]))\n",
    "\n",
    "\n",
    "# Create a figure and axis\n",
    "plt.figure(figsize=(8, 6))\n",
    "\n",
    "# Plot the line graph with log scale on the x-axis\n",
    "plt.semilogy(x, y, marker='o', linestyle='-', color='b', label='Log X Scale')\n",
    "\n",
    "# (Alternatively, for log y-axis: plt.semilogy(x, y, ...))\n",
    "# (For both axes log: plt.loglog(x, y, ...))\n",
    "\n",
    "# Add labels and title\n",
    "plt.xlabel('Num of recombinases')\n",
    "plt.ylabel('Num of possible combinations (log scale)')\n",
    "\n",
    "plt.legend()\n",
    "plt.grid(True, which=\"both\", ls=\"--\")\n",
    "plt.title(\"Each Stage\")\n",
    "\n",
    "plt.show()"
   ]
  },
  {
   "cell_type": "code",
   "execution_count": 82,
   "id": "eaedaa52",
   "metadata": {},
   "outputs": [],
   "source": [
    "import math\n",
    "def calculate_entropy(prob_dict):\n",
    "    \"\"\"\n",
    "    Calculate Shannon entropy (in bits) for a dictionary of outcome probabilities.\n",
    "    \n",
    "    Args:\n",
    "        prob_dict (dict): Dictionary where keys are outcomes and values are probabilities.\n",
    "    \n",
    "    Returns:\n",
    "        float: Entropy in bits.\n",
    "    \"\"\"\n",
    "    entropy = 0.0\n",
    "    for prob in prob_dict.values():\n",
    "        if prob > 0:  # Avoid log(0) which is undefined\n",
    "            entropy -= prob * math.log2(prob)\n",
    "    return entropy"
   ]
  },
  {
   "cell_type": "code",
   "execution_count": 83,
   "id": "582b37d3",
   "metadata": {},
   "outputs": [
    {
     "name": "stdout",
     "output_type": "stream",
     "text": [
      "[0.0, 1.4575424759098898, 1.370348063335165, 0.8318732745704642, 0.22633099101638593, 0.019586180424926748, 0.0, 0.0, 0.0, 0.0, 0.0]\n"
     ]
    },
    {
     "data": {
      "image/png": "[encoded data removed]",
      "text/plain": [
       "<Figure size 800x600 with 1 Axes>"
      ]
     },
     "metadata": {},
     "output_type": "display_data"
    }
   ],
   "source": [
    "entropy_list=[]\n",
    "for _ in outcome_lists:\n",
    "    entropy_list.append(calculate_entropy(_))\n",
    "print(entropy_list)\n",
    "    \n",
    "x=[]\n",
    "y=[]\n",
    "for i in range(len(entropy_list)):\n",
    "    x.append(i)\n",
    "    y.append(entropy_list[i])\n",
    "\n",
    "\n",
    "# Create a figure and axis\n",
    "plt.figure(figsize=(8, 6))\n",
    "\n",
    "# Plot the line graph with log scale on the x-axis\n",
    "plt.plot(x, y, marker='o', linestyle='-', color='b', label='Log X Scale')\n",
    "\n",
    "# (Alternatively, for log y-axis: plt.semilogy(x, y, ...))\n",
    "# (For both axes log: plt.loglog(x, y, ...))\n",
    "\n",
    "# Add labels and title\n",
    "plt.xlabel('Num of recombinases')\n",
    "plt.ylabel('Entropy of each stage')\n",
    "plt.title\n",
    "plt.legend()\n",
    "plt.grid(True, which=\"both\", ls=\"--\")\n",
    "\n",
    "plt.show()"
   ]
  }
 ],
 "metadata": {
  "kernelspec": {
   "display_name": "Python 3",
   "language": "python",
   "name": "python3"
  },
  "language_info": {
   "codemirror_mode": {
    "name": "ipython",
    "version": 3
   },
   "file_extension": ".py",
   "mimetype": "text/x-python",
   "name": "python",
   "nbconvert_exporter": "python",
   "pygments_lexer": "ipython3",
   "version": "3.12.2"
  }
 },
 "nbformat": 4,
 "nbformat_minor": 5
}
