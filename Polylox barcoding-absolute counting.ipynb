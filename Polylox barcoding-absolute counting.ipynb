{
 "cells": [
  {
   "cell_type": "code",
   "execution_count": 1,
   "id": "06f3bb25",
   "metadata": {},
   "outputs": [],
   "source": [
    "initial_dna_sequence = list(\"A9B6C9D6E9F6G9H6I9J6K\")\n",
    "forward_9_positions=[1,5,9,13,17]#computer positions\n",
    "    \n",
    "backward_6_positions=[3,7,11,15,19]#computer positions"
   ]
  },
  {
   "cell_type": "code",
   "execution_count": 2,
   "id": "9cca5e38",
   "metadata": {},
   "outputs": [],
   "source": [
    "def prime(sequence):\n",
    "    inverse_composite=sequence[::-1]\n",
    "    for i in range(len(inverse_composite)):\n",
    "        if inverse_composite[i]=='6':\n",
    "            inverse_composite[i]='9'\n",
    "        elif inverse_composite[i]=='9':\n",
    "            inverse_composite[i]='6'\n",
    "        elif inverse_composite[i].islower():\n",
    "            inverse_composite[i]=inverse_composite[i].upper()\n",
    "        elif inverse_composite[i].isupper():\n",
    "            inverse_composite[i]=inverse_composite[i].lower()\n",
    "        else:\n",
    "            raise SyntaxError\n",
    "    return inverse_composite\n",
    "\n",
    "def detect_forward_sites(DNA,site):\n",
    "    site_length = len(site)\n",
    "    start_positions = []\n",
    "    end_positions = []\n",
    "    \n",
    "    # Slide through the DNA looking for matches\n",
    "    for i in range(len(DNA) - site_length + 1):\n",
    "        # Check if current window matches the site\n",
    "        if DNA[i:i+site_length] == site:\n",
    "            start_positions.append(i)#computer positions\n",
    "    \n",
    "    return start_positions\n",
    "\n",
    "def detect_backward_sites(DNA,site):\n",
    "    site_length = len(site)\n",
    "    start_positions = []\n",
    "    end_positions = []\n",
    "    \n",
    "    # Slide through the DNA looking for matches\n",
    "    for i in range(len(DNA) - site_length + 1):\n",
    "        # Check if current window matches the site\n",
    "        if DNA[i:i+site_length] == site[::-1]:\n",
    "            start_positions.append(i)#computer positions\n",
    "    \n",
    "    return start_positions\n",
    "\n",
    "#ALL positions recorded in natural counting, not computer indices, delete and inverts [site_1,site_2] inclusive\n",
    "def delete_between(DNA,site_1,site_2):\n",
    "    return DNA[:site_1-1]+DNA[site_2:]  \n",
    "\n",
    "def invert_between(DNA,site_1,site_2):\n",
    "    return DNA[:site_1-1]+prime(DNA[site_1-1:site_2])+DNA[site_2:] \n",
    "\n",
    "import random\n",
    "\n",
    "def evaluate_colour_CRE(DNA,choice1,choice2):\n",
    "\n",
    "    num1, direction_1 = choice1\n",
    "    num2, direction_2 = choice2\n",
    "    #WLOG,make num 1 the smaller one\n",
    "    if num1 > num2:\n",
    "        num1, num2 = num2, num1\n",
    "    \n",
    "    # Determine which function to use\n",
    "    #Not yet complete,must know if <> is a flip\n",
    "    if direction_1 == 'forward':\n",
    "        if direction_1 == direction_2:\n",
    "            return delete_between(DNA,num1+1,num2)\n",
    "        elif direction_1!=direction_2:\n",
    "            return invert_between(DNA,num1+1,num2+1)\n",
    "    elif direction_1=='backward':\n",
    "        if direction_1 == direction_2:\n",
    "            return delete_between(DNA,num1+1,num2)\n",
    "        else :\n",
    "            return 'DoNotCount'"
   ]
  },
  {
   "cell_type": "code",
   "execution_count": 3,
   "id": "6ae3f0b4",
   "metadata": {},
   "outputs": [],
   "source": [
    "def probability_calculation(DNA):\n",
    "    # Dictionary to store counts of each outcome\n",
    "    outcome_counts = {}\n",
    "    outcome_list=[[DNA],[],[],[],[],[],[],[],[],[],[],[],[],[],[],[],[]]\n",
    "    recombinases_event=  0\n",
    "    # Run simulations\n",
    "    for _ in outcome_list:\n",
    "        if recombinases_event<len(outcome_list)-2:\n",
    "            recombinases_event+=1      \n",
    "        for stored_result in _:\n",
    "            \n",
    "            forward_9_positions=detect_forward_sites(stored_result,['9'])\n",
    "            backward_6_positions=detect_backward_sites(stored_result,['6'])\n",
    "            # Randomly select two sites\n",
    "            combined = [(num, 'forward') for num in forward_9_positions] + [(num, 'backward') for num in backward_6_positions]\n",
    "            if len(combined)>=2:\n",
    "            \n",
    "                for i in range(len(combined)):\n",
    "                    for j in range(len(combined)):\n",
    "                        choice1,choice2 = combined[i], combined[j]\n",
    "\n",
    "                \n",
    "                        output = evaluate_colour_CRE(stored_result,choice1,choice2)\n",
    "                        if output!='DoNotCount':\n",
    "                            formatted_output = \"\".join(output)\n",
    "                            #print(formatted_output)  \n",
    "                            if formatted_output not in outcome_counts:\n",
    "                                outcome_counts[formatted_output] = 1\n",
    "                                \n",
    "                                outcome_list[recombinases_event].append(output)\n",
    "                            outcome_counts[formatted_output] += 1\n",
    "        print(len(outcome_list[recombinases_event]))\n",
    "    total_simulations=0\n",
    "    for i in outcome_list:\n",
    "        for j in i:\n",
    "            total_simulations+=1    \n",
    "    # Calculate probabilities\n",
    "    probabilities = {outcome: count / total_simulations \n",
    "                     for outcome, count in outcome_counts.items()}\n",
    "    \n",
    "    return probabilities, outcome_list"
   ]
  },
  {
   "cell_type": "code",
   "execution_count": 4,
   "id": "2eca38fe",
   "metadata": {},
   "outputs": [
    {
     "name": "stdout",
     "output_type": "stream",
     "text": [
      "46\n",
      "630\n",
      "5992\n",
      "39081\n",
      "159101\n",
      "406410\n",
      "612423\n",
      "494543\n",
      "148416\n",
      "248\n",
      "0\n",
      "0\n",
      "0\n",
      "0\n",
      "0\n",
      "0\n",
      "0\n"
     ]
    }
   ],
   "source": [
    "data={}\n",
    "\n",
    "probabilities,outcome_lists= probability_calculation(initial_dna_sequence)\n"
   ]
  },
  {
   "cell_type": "code",
   "execution_count": 5,
   "id": "e13d4c56",
   "metadata": {},
   "outputs": [],
   "source": [
    "\n",
    "stored_data=(probabilities,outcome_lists)"
   ]
  },
  {
   "cell_type": "code",
   "execution_count": 6,
   "id": "14541d07",
   "metadata": {},
   "outputs": [],
   "source": [
    "import matplotlib.pyplot as plt\n",
    "import numpy as np\n",
    "\n",
    "def plotting(x,y):\n",
    "    # Extract keys (x-axis) and values (y-axis)\n",
    "    x = x\n",
    "    y = np.log10(y)\n",
    "\n",
    "    # Create a bar plot (or line plot)\n",
    "    plt.plot(x, y)  # For a bar chart\n",
    "    # plt.plot(x, y, marker='o')  # For a line plot with markers\n",
    "\n",
    "    # Add labels and title\n",
    "    plt.xlabel('Keys')\n",
    "    plt.ylabel('Values')\n",
    "    plt.title('Dictionary Plot')\n",
    "\n",
    "    # Show the plot\n",
    "    plt.show()"
   ]
  },
  {
   "cell_type": "code",
   "execution_count": 7,
   "id": "21939f05",
   "metadata": {},
   "outputs": [
    {
     "data": {
      "image/png": "[encoded data removed]",
      "text/plain": [
       "<Figure size 640x480 with 1 Axes>"
      ]
     },
     "metadata": {},
     "output_type": "display_data"
    }
   ],
   "source": [
    "x=[]\n",
    "y=[]\n",
    "for i in range(len(outcome_lists)):\n",
    "    x.append(i)\n",
    "    if i==0:\n",
    "        y.append(len(outcome_lists[i]))\n",
    "    elif i >0:\n",
    "        y.append(y[i-1]+len(outcome_lists[i]))\n",
    "plotting(x,y)"
   ]
  },
  {
   "cell_type": "code",
   "execution_count": 8,
   "id": "35a9ef8c",
   "metadata": {},
   "outputs": [
    {
     "name": "stderr",
     "output_type": "stream",
     "text": [
      "C:\\Users\\Thoma\\AppData\\Local\\Temp\\ipykernel_96528\\1355534565.py:7: RuntimeWarning: divide by zero encountered in log10\n",
      "  y = np.log10(y)\n"
     ]
    },
    {
     "data": {
      "image/png": "[encoded data removed]",
      "text/plain": [
       "<Figure size 640x480 with 1 Axes>"
      ]
     },
     "metadata": {},
     "output_type": "display_data"
    }
   ],
   "source": [
    "x=[]\n",
    "y=[]\n",
    "for i in range(len(outcome_lists)):\n",
    "    x.append(i)\n",
    "    if i==0:\n",
    "        y.append(len(outcome_lists[i]))\n",
    "    elif i >0:\n",
    "        y.append(len(outcome_lists[i]))\n",
    "plotting(x,y)"
   ]
  }
 ],
 "metadata": {
  "kernelspec": {
   "display_name": "Python 3",
   "language": "python",
   "name": "python3"
  },
  "language_info": {
   "codemirror_mode": {
    "name": "ipython",
    "version": 3
   },
   "file_extension": ".py",
   "mimetype": "text/x-python",
   "name": "python",
   "nbconvert_exporter": "python",
   "pygments_lexer": "ipython3",
   "version": "3.12.2"
  }
 },
 "nbformat": 4,
 "nbformat_minor": 5
}
