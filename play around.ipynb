{
 "cells": [
  {
   "cell_type": "code",
   "execution_count": 4,
   "metadata": {},
   "outputs": [],
   "source": [
    "class LinkedPair:\n",
    "    def __init__(self, key, value, is_prime=False):\n",
    "        self.key = key\n",
    "        self.value = value\n",
    "        self.is_prime = is_prime\n",
    "    \n",
    "    def __str__(self):\n",
    "        prime_marker = \" prime\" if self.is_prime else \"\"\n",
    "        return f\"{self.key}{prime_marker} {self.value}{prime_marker}\"\n",
    "    \n",
    "    def make_prime(self):\n",
    "        self.is_prime = True\n",
    "        return self\n",
    "\n",
    "class LinkedPairCollection:\n",
    "    def __init__(self, initial_pairs=None):\n",
    "        self.pairs = initial_pairs if initial_pairs else []\n",
    "    \n",
    "    def add_pair(self, key, value):\n",
    "        self.pairs.append(LinkedPair(key, value))\n",
    "    \n",
    "    def invert(self):\n",
    "        \"\"\"Reverse order of all words and make everything prime\"\"\"\n",
    "        # Extract all words in order\n",
    "        all_words = []\n",
    "        for pair in self.pairs:\n",
    "            all_words.append(pair.key)\n",
    "            all_words.append(pair.value)\n",
    "        \n",
    "        # Reverse the list and make everything prime\n",
    "        inverted_words = [f\"{word} prime\" for word in reversed(all_words)]\n",
    "        \n",
    "        # Join with spaces\n",
    "        return \" \".join(inverted_words)\n",
    "    \n",
    "    def to_string(self):\n",
    "        return \" \".join(f\"{pair.key} {pair.value}\" for pair in self.pairs)\n",
    "    \n",
    "    @classmethod\n",
    "    def from_string(cls, input_str):\n",
    "        \"\"\"Creates a collection from a string like 'A alpha B beta C gamma'\"\"\"\n",
    "        items = input_str.split()\n",
    "        if len(items) % 2 != 0:\n",
    "            raise ValueError(\"Input string must contain an even number of space-separated items\")\n",
    "        \n",
    "        collection = cls()\n",
    "        for i in range(0, len(items), 2):\n",
    "            collection.add_pair(items[i], items[i+1])\n",
    "        return collection\n"
   ]
  },
  {
   "cell_type": "code",
   "execution_count": 6,
   "metadata": {},
   "outputs": [
    {
     "name": "stdout",
     "output_type": "stream",
     "text": [
      "Original: A alpha B beta\n",
      "Inverted: \u001b[94mbeta prime\u001b[0m \u001b[94mB prime\u001b[0m \u001b[94malpha prime\u001b[0m \u001b[94mA prime\u001b[0m\n",
      "\n",
      "Original complex: A alpha B beta C gamma\n",
      "Inverted complex: \u001b[94mgamma prime\u001b[0m \u001b[94mC prime\u001b[0m \u001b[94mbeta prime\u001b[0m \u001b[94mB prime\u001b[0m \u001b[94malpha prime\u001b[0m \u001b[94mA prime\u001b[0m\n"
     ]
    }
   ],
   "source": [
    "# Example usage\n",
    "# Example usage\n",
    "if __name__ == \"__main__\":\n",
    "    # Color formatting setup\n",
    "    BLUE = '\\033[94m'\n",
    "    ENDC = '\\033[0m'\n",
    "    \n",
    "    def color_prime_terms(text):\n",
    "        \"\"\"Colors entire prime terms (word + ' prime') in blue\"\"\"\n",
    "        words = text.split()\n",
    "        colored_words = []\n",
    "        i = 0\n",
    "        while i < len(words):\n",
    "            if i+1 < len(words) and words[i+1] == 'prime':\n",
    "                # Combine word + 'prime' and color them\n",
    "                colored_words.append(f\"{BLUE}{words[i]} {words[i+1]}{ENDC}\")\n",
    "                i += 2\n",
    "            else:\n",
    "                colored_words.append(words[i])\n",
    "                i += 1\n",
    "        return ' '.join(colored_words)\n",
    "    \n",
    "    # Create from string\n",
    "    collection = LinkedPairCollection.from_string(\"A alpha B beta\")\n",
    "    print(\"Original:\", collection.to_string())  # Output: A alpha B beta\n",
    "    \n",
    "    # Invert the pairs and display with colored primes\n",
    "    inverted = collection.invert()\n",
    "    print(\"Inverted:\", color_prime_terms(inverted))\n",
    "    # Output shows: [blue]beta prime[/blue] [blue]alpha prime[/blue] [blue]B prime[/blue] [blue]A prime[/blue]\n",
    "    \n",
    "    # More complex example\n",
    "    complex_collection = LinkedPairCollection.from_string(\"A alpha B beta C gamma\")\n",
    "    print(\"\\nOriginal complex:\", complex_collection.to_string())\n",
    "    inverted_complex = complex_collection.invert()\n",
    "    print(\"Inverted complex:\", color_prime_terms(inverted_complex))"
   ]
  }
 ],
 "metadata": {
  "kernelspec": {
   "display_name": "Python 3",
   "language": "python",
   "name": "python3"
  },
  "language_info": {
   "codemirror_mode": {
    "name": "ipython",
    "version": 3
   },
   "file_extension": ".py",
   "mimetype": "text/x-python",
   "name": "python",
   "nbconvert_exporter": "python",
   "pygments_lexer": "ipython3",
   "version": "3.12.2"
  }
 },
 "nbformat": 4,
 "nbformat_minor": 2
}
